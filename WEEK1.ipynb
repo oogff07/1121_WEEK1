{
  "nbformat": 4,
  "nbformat_minor": 0,
  "metadata": {
    "colab": {
      "provenance": [],
      "gpuType": "T4"
    },
    "kernelspec": {
      "name": "python3",
      "display_name": "Python 3"
    },
    "language_info": {
      "name": "python"
    },
    "accelerator": "GPU"
  },
  "cells": [
    {
      "cell_type": "code",
      "execution_count": 1,
      "metadata": {
        "id": "aUR_ZtJDtIBk"
      },
      "outputs": [],
      "source": [
        "import numpy as np\n",
        "import keras\n",
        "from keras.datasets import mnist\n",
        "from keras.models import Sequential\n",
        "from keras.layers import Dense, Flatten, Conv2D, MaxPooling2D\n",
        "from keras.utils import to_categorical"
      ]
    },
    {
      "cell_type": "code",
      "source": [
        "# 載入 MNIST 資料集，並分為訓練集和測試集\n",
        "(x_train, y_train), (x_test, y_test) = mnist.load_data()\n",
        "\n",
        "# 資料前處理\n",
        "x_train = x_train.reshape(x_train.shape[0], 28, 28, 1)\n",
        "x_test = x_test.reshape(x_test.shape[0], 28, 28, 1)\n",
        "x_train = x_train.astype('float32')\n",
        "x_test = x_test.astype('float32')\n",
        "x_train /= 255\n",
        "x_test /= 255\n",
        "y_train = to_categorical(y_train, 10)\n",
        "y_test = to_categorical(y_test, 10)"
      ],
      "metadata": {
        "id": "EGlY_DhjudXn",
        "colab": {
          "base_uri": "https://localhost:8080/"
        },
        "outputId": "c8c45e40-39ff-485a-cb57-ce86b8201ce1"
      },
      "execution_count": 2,
      "outputs": [
        {
          "output_type": "stream",
          "name": "stdout",
          "text": [
            "Downloading data from https://storage.googleapis.com/tensorflow/tf-keras-datasets/mnist.npz\n",
            "11490434/11490434 [==============================] - 2s 0us/step\n"
          ]
        }
      ]
    },
    {
      "cell_type": "markdown",
      "source": [
        "## DNN 模型"
      ],
      "metadata": {
        "id": "IHmtvnxTwCcm"
      }
    },
    {
      "cell_type": "code",
      "source": [
        "# 創建 DNN 模型\n",
        "model_dnn = Sequential()\n",
        "model_dnn.add(Flatten(input_shape=(28, 28, 1)))\n",
        "model_dnn.add(Dense(128, activation='relu'))\n",
        "model_dnn.add(Dense(64, activation='relu'))\n",
        "model_dnn.add(Dense(10, activation='softmax'))"
      ],
      "metadata": {
        "id": "Qog5Up0ougWW"
      },
      "execution_count": 3,
      "outputs": []
    },
    {
      "cell_type": "code",
      "source": [
        "# 編譯 DNN 模型\n",
        "model_dnn.compile(loss='categorical_crossentropy',\n",
        "              optimizer='adam',\n",
        "              metrics=['accuracy'])\n",
        "\n",
        "# 訓練 DNN 模型\n",
        "model_dnn.fit(x_train, y_train, epochs=5, batch_size=64, validation_data=(x_test, y_test))"
      ],
      "metadata": {
        "colab": {
          "base_uri": "https://localhost:8080/"
        },
        "id": "qu-mSUN4uiKW",
        "outputId": "662588d2-d047-4217-95d3-d027ad1bcca0"
      },
      "execution_count": 4,
      "outputs": [
        {
          "output_type": "stream",
          "name": "stdout",
          "text": [
            "Epoch 1/5\n",
            "938/938 [==============================] - 11s 4ms/step - loss: 0.2789 - accuracy: 0.9192 - val_loss: 0.1281 - val_accuracy: 0.9625\n",
            "Epoch 2/5\n",
            "938/938 [==============================] - 5s 5ms/step - loss: 0.1112 - accuracy: 0.9661 - val_loss: 0.0973 - val_accuracy: 0.9702\n",
            "Epoch 3/5\n",
            "938/938 [==============================] - 4s 4ms/step - loss: 0.0772 - accuracy: 0.9764 - val_loss: 0.0938 - val_accuracy: 0.9723\n",
            "Epoch 4/5\n",
            "938/938 [==============================] - 4s 4ms/step - loss: 0.0586 - accuracy: 0.9819 - val_loss: 0.0756 - val_accuracy: 0.9775\n",
            "Epoch 5/5\n",
            "938/938 [==============================] - 4s 4ms/step - loss: 0.0450 - accuracy: 0.9859 - val_loss: 0.0814 - val_accuracy: 0.9758\n"
          ]
        },
        {
          "output_type": "execute_result",
          "data": {
            "text/plain": [
              "<keras.callbacks.History at 0x784ad02f6dd0>"
            ]
          },
          "metadata": {},
          "execution_count": 4
        }
      ]
    },
    {
      "cell_type": "code",
      "source": [
        "# 評估 DNN 模型\n",
        "dnn_loss, dnn_accuracy = model_dnn.evaluate(x_test, y_test)\n",
        "\n",
        "print(f'DNN - Loss: {dnn_loss}, Accuracy: {dnn_accuracy}')"
      ],
      "metadata": {
        "colab": {
          "base_uri": "https://localhost:8080/"
        },
        "id": "OYx2YRFhukKt",
        "outputId": "5b446c95-f8c6-41d7-b23f-81ad8a82f0d3"
      },
      "execution_count": 5,
      "outputs": [
        {
          "output_type": "stream",
          "name": "stdout",
          "text": [
            "313/313 [==============================] - 1s 3ms/step - loss: 0.0814 - accuracy: 0.9758\n",
            "DNN - Loss: 0.08138832449913025, Accuracy: 0.9757999777793884\n"
          ]
        }
      ]
    },
    {
      "cell_type": "markdown",
      "source": [
        "## CNN 模型"
      ],
      "metadata": {
        "id": "ZQoNVMbvwGwe"
      }
    },
    {
      "cell_type": "code",
      "source": [
        "# 創建 CNN 模型\n",
        "model_cnn = Sequential()\n",
        "model_cnn.add(Conv2D(32, kernel_size=(3, 3), activation='relu', input_shape=(28, 28, 1)))\n",
        "model_cnn.add(MaxPooling2D(pool_size=(2, 2)))\n",
        "model_cnn.add(Flatten())\n",
        "model_cnn.add(Dense(128, activation='relu'))\n",
        "model_cnn.add(Dense(10, activation='softmax'))"
      ],
      "metadata": {
        "id": "G9Pk-nSvvkn1"
      },
      "execution_count": 6,
      "outputs": []
    },
    {
      "cell_type": "code",
      "source": [
        "# 編譯 CNN 模型\n",
        "model_cnn.compile(loss='categorical_crossentropy',\n",
        "              optimizer='adam',\n",
        "              metrics=['accuracy'])\n",
        "\n",
        "# 訓練 CNN 模型\n",
        "model_cnn.fit(x_train, y_train, epochs=5, batch_size=64, validation_data=(x_test, y_test))"
      ],
      "metadata": {
        "colab": {
          "base_uri": "https://localhost:8080/"
        },
        "id": "-o-p86gMvmbF",
        "outputId": "e4c459ea-c5a4-4edd-8567-a672dea2a457"
      },
      "execution_count": 7,
      "outputs": [
        {
          "output_type": "stream",
          "name": "stdout",
          "text": [
            "Epoch 1/5\n",
            "938/938 [==============================] - 11s 5ms/step - loss: 0.1773 - accuracy: 0.9475 - val_loss: 0.0661 - val_accuracy: 0.9789\n",
            "Epoch 2/5\n",
            "938/938 [==============================] - 4s 4ms/step - loss: 0.0578 - accuracy: 0.9824 - val_loss: 0.0550 - val_accuracy: 0.9815\n",
            "Epoch 3/5\n",
            "938/938 [==============================] - 5s 5ms/step - loss: 0.0382 - accuracy: 0.9887 - val_loss: 0.0460 - val_accuracy: 0.9843\n",
            "Epoch 4/5\n",
            "938/938 [==============================] - 4s 4ms/step - loss: 0.0258 - accuracy: 0.9919 - val_loss: 0.0464 - val_accuracy: 0.9850\n",
            "Epoch 5/5\n",
            "938/938 [==============================] - 4s 5ms/step - loss: 0.0196 - accuracy: 0.9936 - val_loss: 0.0472 - val_accuracy: 0.9851\n"
          ]
        },
        {
          "output_type": "execute_result",
          "data": {
            "text/plain": [
              "<keras.callbacks.History at 0x784acf4eff70>"
            ]
          },
          "metadata": {},
          "execution_count": 7
        }
      ]
    },
    {
      "cell_type": "code",
      "source": [
        "# 評估 CNN 模型\n",
        "cnn_loss, cnn_accuracy = model_cnn.evaluate(x_test, y_test)\n",
        "\n",
        "print(f'CNN - Loss: {cnn_loss}, Accuracy: {cnn_accuracy}')"
      ],
      "metadata": {
        "colab": {
          "base_uri": "https://localhost:8080/"
        },
        "id": "EwQPV5ojvoJF",
        "outputId": "f79def81-735e-4c68-8efe-770cf519e112"
      },
      "execution_count": 8,
      "outputs": [
        {
          "output_type": "stream",
          "name": "stdout",
          "text": [
            "313/313 [==============================] - 1s 3ms/step - loss: 0.0472 - accuracy: 0.9851\n",
            "CNN - Loss: 0.047187916934490204, Accuracy: 0.9850999712944031\n"
          ]
        }
      ]
    },
    {
      "cell_type": "code",
      "source": [],
      "metadata": {
        "id": "-UpcvsLHRkQ3"
      },
      "execution_count": 8,
      "outputs": []
    }
  ]
}