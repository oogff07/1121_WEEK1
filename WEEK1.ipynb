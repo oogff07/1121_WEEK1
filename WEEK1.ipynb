{
  "nbformat": 4,
  "nbformat_minor": 0,
  "metadata": {
    "colab": {
      "provenance": [],
      "gpuType": "T4"
    },
    "kernelspec": {
      "name": "python3",
      "display_name": "Python 3"
    },
    "language_info": {
      "name": "python"
    },
    "accelerator": "GPU"
  },
  "cells": [
    {
      "cell_type": "code",
      "execution_count": 39,
      "metadata": {
        "id": "aUR_ZtJDtIBk"
      },
      "outputs": [],
      "source": [
        "import numpy as np\n",
        "import matplotlib.pyplot as plt\n",
        "from tensorflow.keras.datasets import mnist\n",
        "from tensorflow.keras.models import Sequential\n",
        "from tensorflow.keras.layers import Dense, Dropout, LSTM, Flatten\n",
        "from tensorflow.keras.utils import to_categorical"
      ]
    },
    {
      "cell_type": "code",
      "source": [
        "# 載入並預處理 MNIST 資料集\n",
        "(X_train, y_train), (X_test, y_test) = mnist.load_data()\n",
        "X_train = X_train.reshape(X_train.shape[0], 28, 28) / 255.0\n",
        "X_test = X_test.reshape(X_test.shape[0], 28, 28) / 255.0\n",
        "\n",
        "# 對 y_train 進行 one-hot 編碼\n",
        "y_train = to_categorical(y_train)\n",
        "y_test = to_categorical(y_test)"
      ],
      "metadata": {
        "id": "EGlY_DhjudXn"
      },
      "execution_count": 40,
      "outputs": []
    },
    {
      "cell_type": "markdown",
      "source": [
        "## DNN 模型"
      ],
      "metadata": {
        "id": "IHmtvnxTwCcm"
      }
    },
    {
      "cell_type": "code",
      "source": [
        "# 將資料reshape為flat格式\n",
        "X_train = X_train.reshape(60000, 28*28)\n",
        "X_test = X_test.reshape(10000, 28*28)\n",
        "\n",
        "# 建立DNN模型\n",
        "model = Sequential()\n",
        "model.add(Dense(512, input_shape=(28*28,), activation='relu'))\n",
        "model.add(Dropout(0.2))\n",
        "model.add(Dense(512, activation='relu'))\n",
        "model.add(Dense(512, input_shape=(28*28,), activation='relu'))\n",
        "model.add(Dropout(0.2))\n",
        "model.add(Dense(10, activation='softmax'))"
      ],
      "metadata": {
        "id": "Qog5Up0ougWW"
      },
      "execution_count": 44,
      "outputs": []
    },
    {
      "cell_type": "code",
      "source": [
        "# 訓練模型\n",
        "model.compile(loss='categorical_crossentropy',\n",
        "              optimizer='rmsprop', metrics=['accuracy'])\n",
        "model.fit(X_train, y_train,\n",
        "          epochs=20,\n",
        "          batch_size=128,\n",
        "          validation_data=(X_test, y_test))"
      ],
      "metadata": {
        "colab": {
          "base_uri": "https://localhost:8080/"
        },
        "id": "qu-mSUN4uiKW",
        "outputId": "e818542d-697b-424f-fcc7-e5842f002bb1"
      },
      "execution_count": 45,
      "outputs": [
        {
          "output_type": "stream",
          "name": "stdout",
          "text": [
            "Epoch 1/20\n",
            "469/469 [==============================] - 4s 5ms/step - loss: 0.2659 - accuracy: 0.9164 - val_loss: 0.1172 - val_accuracy: 0.9629\n",
            "Epoch 2/20\n",
            "469/469 [==============================] - 2s 4ms/step - loss: 0.1062 - accuracy: 0.9670 - val_loss: 0.0824 - val_accuracy: 0.9760\n",
            "Epoch 3/20\n",
            "469/469 [==============================] - 2s 4ms/step - loss: 0.0790 - accuracy: 0.9756 - val_loss: 0.0762 - val_accuracy: 0.9776\n",
            "Epoch 4/20\n",
            "469/469 [==============================] - 2s 4ms/step - loss: 0.0606 - accuracy: 0.9818 - val_loss: 0.0752 - val_accuracy: 0.9789\n",
            "Epoch 5/20\n",
            "469/469 [==============================] - 2s 4ms/step - loss: 0.0487 - accuracy: 0.9846 - val_loss: 0.0751 - val_accuracy: 0.9792\n",
            "Epoch 6/20\n",
            "469/469 [==============================] - 2s 4ms/step - loss: 0.0427 - accuracy: 0.9869 - val_loss: 0.0678 - val_accuracy: 0.9817\n",
            "Epoch 7/20\n",
            "469/469 [==============================] - 2s 5ms/step - loss: 0.0341 - accuracy: 0.9892 - val_loss: 0.0715 - val_accuracy: 0.9825\n",
            "Epoch 8/20\n",
            "469/469 [==============================] - 2s 5ms/step - loss: 0.0315 - accuracy: 0.9901 - val_loss: 0.0673 - val_accuracy: 0.9820\n",
            "Epoch 9/20\n",
            "469/469 [==============================] - 2s 4ms/step - loss: 0.0281 - accuracy: 0.9914 - val_loss: 0.0708 - val_accuracy: 0.9846\n",
            "Epoch 10/20\n",
            "469/469 [==============================] - 2s 4ms/step - loss: 0.0262 - accuracy: 0.9919 - val_loss: 0.0836 - val_accuracy: 0.9811\n",
            "Epoch 11/20\n",
            "469/469 [==============================] - 2s 4ms/step - loss: 0.0214 - accuracy: 0.9929 - val_loss: 0.0583 - val_accuracy: 0.9857\n",
            "Epoch 12/20\n",
            "469/469 [==============================] - 2s 4ms/step - loss: 0.0214 - accuracy: 0.9934 - val_loss: 0.0770 - val_accuracy: 0.9834\n",
            "Epoch 13/20\n",
            "469/469 [==============================] - 2s 5ms/step - loss: 0.0168 - accuracy: 0.9946 - val_loss: 0.0918 - val_accuracy: 0.9820\n",
            "Epoch 14/20\n",
            "469/469 [==============================] - 2s 5ms/step - loss: 0.0162 - accuracy: 0.9948 - val_loss: 0.0860 - val_accuracy: 0.9841\n",
            "Epoch 15/20\n",
            "469/469 [==============================] - 2s 4ms/step - loss: 0.0155 - accuracy: 0.9954 - val_loss: 0.0834 - val_accuracy: 0.9845\n",
            "Epoch 16/20\n",
            "469/469 [==============================] - 2s 4ms/step - loss: 0.0151 - accuracy: 0.9954 - val_loss: 0.0705 - val_accuracy: 0.9860\n",
            "Epoch 17/20\n",
            "469/469 [==============================] - 2s 4ms/step - loss: 0.0132 - accuracy: 0.9959 - val_loss: 0.1009 - val_accuracy: 0.9807\n",
            "Epoch 18/20\n",
            "469/469 [==============================] - 2s 4ms/step - loss: 0.0135 - accuracy: 0.9959 - val_loss: 0.0787 - val_accuracy: 0.9841\n",
            "Epoch 19/20\n",
            "469/469 [==============================] - 3s 6ms/step - loss: 0.0117 - accuracy: 0.9964 - val_loss: 0.0947 - val_accuracy: 0.9834\n",
            "Epoch 20/20\n",
            "469/469 [==============================] - 2s 5ms/step - loss: 0.0118 - accuracy: 0.9964 - val_loss: 0.0931 - val_accuracy: 0.9846\n"
          ]
        },
        {
          "output_type": "execute_result",
          "data": {
            "text/plain": [
              "<keras.callbacks.History at 0x7dae20205c00>"
            ]
          },
          "metadata": {},
          "execution_count": 45
        }
      ]
    },
    {
      "cell_type": "code",
      "source": [
        "# 評估模型效能\n",
        "score = model.evaluate(X_test, y_test, verbose=0)\n",
        "print('Test loss:', score[0])\n",
        "print('Test accuracy:', score[1])"
      ],
      "metadata": {
        "colab": {
          "base_uri": "https://localhost:8080/"
        },
        "id": "OYx2YRFhukKt",
        "outputId": "21fdea69-a168-4507-8e62-c7e4684c5afb"
      },
      "execution_count": 46,
      "outputs": [
        {
          "output_type": "stream",
          "name": "stdout",
          "text": [
            "Test loss: 0.09314277768135071\n",
            "Test accuracy: 0.9846000075340271\n"
          ]
        }
      ]
    },
    {
      "cell_type": "markdown",
      "source": [
        "## CNN 模型"
      ],
      "metadata": {
        "id": "ZQoNVMbvwGwe"
      }
    },
    {
      "cell_type": "code",
      "source": [
        "from tensorflow.keras.layers import Conv2D, MaxPool2D, Dense, Flatten"
      ],
      "metadata": {
        "id": "ngYDvSkPvgWB"
      },
      "execution_count": 47,
      "outputs": []
    },
    {
      "cell_type": "code",
      "source": [
        "X_train = X_train.reshape(X_train.shape[0], 28, 28) / 255.0\n",
        "X_test = X_test.reshape(X_test.shape[0], 28, 28) / 255.0\n",
        "\n",
        "# 建立 CNN 模型\n",
        "model = Sequential()\n",
        "model.add(Conv2D(32, kernel_size=(3, 3), activation='relu', input_shape=(28,28,1)))\n",
        "model.add(MaxPool2D(pool_size=(2, 2)))\n",
        "model.add(Flatten())\n",
        "model.add(Dense(10, activation='softmax'))"
      ],
      "metadata": {
        "id": "G9Pk-nSvvkn1"
      },
      "execution_count": 50,
      "outputs": []
    },
    {
      "cell_type": "code",
      "source": [
        "# 訓練模型\n",
        "model.compile(loss='categorical_crossentropy', optimizer='adam', metrics=['accuracy'])\n",
        "model.fit(X_train, y_train, epochs=3, validation_data=(X_test, y_test))"
      ],
      "metadata": {
        "colab": {
          "base_uri": "https://localhost:8080/"
        },
        "id": "-o-p86gMvmbF",
        "outputId": "a44a4b66-58a6-4e3d-9144-7c5ce0330383"
      },
      "execution_count": 51,
      "outputs": [
        {
          "output_type": "stream",
          "name": "stdout",
          "text": [
            "Epoch 1/3\n",
            "1875/1875 [==============================] - 8s 4ms/step - loss: 1.0152 - accuracy: 0.7519 - val_loss: 0.4363 - val_accuracy: 0.8839\n",
            "Epoch 2/3\n",
            "1875/1875 [==============================] - 6s 3ms/step - loss: 0.3923 - accuracy: 0.8874 - val_loss: 0.3401 - val_accuracy: 0.9020\n",
            "Epoch 3/3\n",
            "1875/1875 [==============================] - 7s 4ms/step - loss: 0.3402 - accuracy: 0.9006 - val_loss: 0.3087 - val_accuracy: 0.9131\n"
          ]
        },
        {
          "output_type": "execute_result",
          "data": {
            "text/plain": [
              "<keras.callbacks.History at 0x7dae20d2f160>"
            ]
          },
          "metadata": {},
          "execution_count": 51
        }
      ]
    },
    {
      "cell_type": "code",
      "source": [
        "# 評估模型\n",
        "score = model.evaluate(X_test, y_test, verbose=0)\n",
        "print('CNN Test loss:', score[0])\n",
        "print('CNN Test accuracy:', score[1])"
      ],
      "metadata": {
        "colab": {
          "base_uri": "https://localhost:8080/"
        },
        "id": "EwQPV5ojvoJF",
        "outputId": "255cb532-ecef-4c54-b42d-038edb74ec90"
      },
      "execution_count": 52,
      "outputs": [
        {
          "output_type": "stream",
          "name": "stdout",
          "text": [
            "CNN Test loss: 0.3087124824523926\n",
            "CNN Test accuracy: 0.913100004196167\n"
          ]
        }
      ]
    }
  ]
}